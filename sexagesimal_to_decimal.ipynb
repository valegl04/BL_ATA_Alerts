{
 "cells": [
  {
   "cell_type": "code",
   "execution_count": 6,
   "id": "c0ed3f60",
   "metadata": {},
   "outputs": [
    {
     "name": "stdout",
     "output_type": "stream",
     "text": [
      "Requirement already satisfied: pandas in ./env/lib/python3.13/site-packages (2.3.0)\n",
      "Requirement already satisfied: astropy in ./env/lib/python3.13/site-packages (7.1.0)\n",
      "Requirement already satisfied: numpy>=1.26.0 in ./env/lib/python3.13/site-packages (from pandas) (2.3.0)\n",
      "Requirement already satisfied: python-dateutil>=2.8.2 in ./env/lib/python3.13/site-packages (from pandas) (2.9.0.post0)\n",
      "Requirement already satisfied: pytz>=2020.1 in ./env/lib/python3.13/site-packages (from pandas) (2025.2)\n",
      "Requirement already satisfied: tzdata>=2022.7 in ./env/lib/python3.13/site-packages (from pandas) (2025.2)\n",
      "Requirement already satisfied: pyerfa>=2.0.1.1 in ./env/lib/python3.13/site-packages (from astropy) (2.0.1.5)\n",
      "Requirement already satisfied: astropy-iers-data>=0.2025.4.28.0.37.27 in ./env/lib/python3.13/site-packages (from astropy) (0.2025.6.9.14.9.37)\n",
      "Requirement already satisfied: PyYAML>=6.0.0 in ./env/lib/python3.13/site-packages (from astropy) (6.0.2)\n",
      "Requirement already satisfied: packaging>=22.0.0 in ./env/lib/python3.13/site-packages (from astropy) (25.0)\n",
      "Requirement already satisfied: six>=1.5 in ./env/lib/python3.13/site-packages (from python-dateutil>=2.8.2->pandas) (1.17.0)\n",
      "\n",
      "\u001b[1m[\u001b[0m\u001b[34;49mnotice\u001b[0m\u001b[1;39;49m]\u001b[0m\u001b[39;49m A new release of pip is available: \u001b[0m\u001b[31;49m24.3.1\u001b[0m\u001b[39;49m -> \u001b[0m\u001b[32;49m25.1.1\u001b[0m\n",
      "\u001b[1m[\u001b[0m\u001b[34;49mnotice\u001b[0m\u001b[1;39;49m]\u001b[0m\u001b[39;49m To update, run: \u001b[0m\u001b[32;49mpip install --upgrade pip\u001b[0m\n",
      "Note: you may need to restart the kernel to use updated packages.\n"
     ]
    }
   ],
   "source": [
    "pip install pandas astropy"
   ]
  },
  {
   "cell_type": "code",
   "execution_count": null,
   "id": "719e22aa",
   "metadata": {},
   "outputs": [
    {
     "name": "stdout",
     "output_type": "stream",
     "text": [
      " ✅ Conversion complete. File saved as SN_SLSN-I_decimal.csv\n"
     ]
    }
   ],
   "source": [
    "import pandas as pd\n",
    "from astropy.coordinates import Angle\n",
    "import astropy.units as u\n",
    "\n",
    "# Load CSV without headers\n",
    "df = pd.read_csv(\"SN_SLSN-I.csv\", header=None)\n",
    "\n",
    "# Assign temporary column names\n",
    "df.columns = ['RA', 'Dec', 'Name']\n",
    "\n",
    "# Convert RA and Dec from sexagesimal to decimal degrees using Angle\n",
    "df['RA_deg'] = Angle(df['RA'], unit=u.deg).deg\n",
    "df['Dec_deg'] = Angle(df['Dec'], unit=u.deg).deg\n",
    "\n",
    "# Build final DataFrame for Lasair\n",
    "final_df = pd.DataFrame({\n",
    "    'ra': df['RA_deg'],\n",
    "    'dec': df['Dec_deg'],\n",
    "    'name': df['Name'],\n",
    "})\n",
    "\n",
    "# Save as CSV\n",
    "final_df.to_csv(\"SN_SLSN-I_decimal.csv\", index=False)\n",
    "\n",
    "print(\" Conversion complete. File saved as SN_SLSN-I_decimal.csv\")\n"
   ]
  },
  {
   "cell_type": "code",
   "execution_count": null,
   "id": "80153a49",
   "metadata": {},
   "outputs": [],
   "source": []
  }
 ],
 "metadata": {
  "kernelspec": {
   "display_name": "env",
   "language": "python",
   "name": "python3"
  },
  "language_info": {
   "codemirror_mode": {
    "name": "ipython",
    "version": 3
   },
   "file_extension": ".py",
   "mimetype": "text/x-python",
   "name": "python",
   "nbconvert_exporter": "python",
   "pygments_lexer": "ipython3",
   "version": "3.13.1"
  }
 },
 "nbformat": 4,
 "nbformat_minor": 5
}
