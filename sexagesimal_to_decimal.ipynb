{
 "cells": [
  {
   "cell_type": "code",
   "execution_count": 5,
   "id": "80153a49",
   "metadata": {},
   "outputs": [
    {
     "name": "stdout",
     "output_type": "stream",
     "text": [
      "✅ Conversion completed\n"
     ]
    }
   ],
   "source": [
    "import pandas as pd\n",
    "from astropy.coordinates import Angle\n",
    "import astropy.units as u\n",
    "\n",
    "# Load CSV without headers\n",
    "df = pd.read_csv(\"SN_IIn.csv\", header=None)\n",
    "\n",
    "# Assign temporary column names\n",
    "df.columns = ['RA', 'Dec', 'Name']\n",
    "\n",
    "# Convert RA and Dec from sexagesimal to decimal degrees using Angle\n",
    "df['RA_deg'] = Angle(df['RA'], unit=u.deg).deg\n",
    "df['Dec_deg'] = Angle(df['Dec'], unit=u.deg).deg\n",
    "\n",
    "# Build final DataFrame for Lasair with radius column\n",
    "final_df = pd.DataFrame({\n",
    "    'ra': df['RA_deg'],\n",
    "    'dec': df['Dec_deg'],\n",
    "    'radius': 0.01,\n",
    "    'name': df['Name']\n",
    "})\n",
    "\n",
    "# Save as CSV without headers\n",
    "final_df.to_csv(\"SN_IIn_radius.csv\", index=False, header=False)\n",
    "\n",
    "print(\"✅ Conversion completed\")\n"
   ]
  },
  {
   "cell_type": "code",
   "execution_count": null,
   "id": "c6576134",
   "metadata": {},
   "outputs": [],
   "source": []
  }
 ],
 "metadata": {
  "kernelspec": {
   "display_name": "env",
   "language": "python",
   "name": "python3"
  },
  "language_info": {
   "codemirror_mode": {
    "name": "ipython",
    "version": 3
   },
   "file_extension": ".py",
   "mimetype": "text/x-python",
   "name": "python",
   "nbconvert_exporter": "python",
   "pygments_lexer": "ipython3",
   "version": "3.13.1"
  }
 },
 "nbformat": 4,
 "nbformat_minor": 5
}
