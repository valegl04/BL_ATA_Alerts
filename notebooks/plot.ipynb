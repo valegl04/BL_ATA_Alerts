{
 "cells": [
  {
   "cell_type": "code",
   "execution_count": 1,
   "id": "43692aaa",
   "metadata": {},
   "outputs": [
    {
     "name": "stderr",
     "output_type": "stream",
     "text": [
      "/home/vlopez/BL_ATA_Alerts/.venv/lib/python3.12/site-packages/blimpy/__init__.py:21: UserWarning: pkg_resources is deprecated as an API. See https://setuptools.pypa.io/en/latest/pkg_resources.html. The pkg_resources package is slated for removal as early as 2025-11-30. Refrain from using this package or pin to Setuptools<81.\n",
      "  from pkg_resources import get_distribution, DistributionNotFound\n"
     ]
    }
   ],
   "source": [
    "\n",
    "\n",
    "from astropy import units as u\n",
    "import setigen as stg\n",
    "import matplotlib.pyplot as plt\n",
    "\n",
    "frame = stg.Frame(fchans=1024,\n",
    "                  tchans=32,\n",
    "                  df=2.7939677238464355*u.Hz,\n",
    "                  dt=18.253611008*u.s,\n",
    "                  fch1=6095.214842353016*u.MHz)\n",
    "noise = frame.add_noise(x_mean=10, noise_type='chi2')\n",
    "signal = frame.add_signal(stg.constant_path(f_start=frame.get_frequency(index=200),\n",
    "                                            drift_rate=2*u.Hz/u.s),\n",
    "                          stg.constant_t_profile(level=frame.get_intensity(snr=30)),\n",
    "                          stg.gaussian_f_profile(width=40*u.Hz),\n",
    "                          stg.constant_bp_profile(level=1))\n",
    "\n",
    "fig = plt.figure(figsize=(10, 6))\n",
    "frame.plot()\n",
    "#plt.savefig('example.png', bbox_inches='tight')\n",
    "plt.show()"
   ]
  },
  {
   "cell_type": "code",
   "execution_count": 2,
   "id": "12a78bc1",
   "metadata": {},
   "outputs": [
    {
     "name": "stdout",
     "output_type": "stream",
     "text": [
      "Drift rate: 0.44965785159545274 Hz / s\n"
     ]
    }
   ],
   "source": [
    "from astropy import units as u\n",
    "from astropy.constants import c\n",
    "\n",
    "freq_obs = 4024.0009728 * u.MHz    \n",
    "dv_dt = 3.35e-5 * u.km/u.s**2       \n",
    "\n",
    "drift_rate = (dv_dt * freq_obs / c).to(u.Hz/u.s)\n",
    "\n",
    "print(\"Drift rate:\", drift_rate)"
   ]
  },
  {
   "cell_type": "code",
   "execution_count": 28,
   "id": "a25d836e",
   "metadata": {},
   "outputs": [],
   "source": [
    "from astropy import units as u\n",
    "import setigen as stg\n",
    "import matplotlib.pyplot as plt\n",
    "import numpy as np\n",
    "\n",
    "#3I/ATLAS\n",
    "\n",
    "frame = stg.Frame(fchans=1024,\n",
    "                  tchans=19,\n",
    "                  df=1.9*u.Hz,\n",
    "                  dt=16.777216*u.s,\n",
    "                  fch1=4024.0009728*u.MHz)\n",
    "noise = frame.add_noise_from_obs()\n",
    "signal = frame.add_signal(stg.constant_path(f_start=frame.get_frequency(index=200),\n",
    "                                            drift_rate=0.44965785159545274*u.Hz/u.s),\n",
    "                          stg.constant_t_profile(level=frame.get_intensity(snr=15)),\n",
    "                          stg.gaussian_f_profile(width=10*u.Hz),\n",
    "                          stg.constant_bp_profile(level=1))\n",
    "\n",
    "fig = plt.subplots(figsize=(10, 6))\n",
    "frame.plot()\n",
    "\n",
    "t_vals = np.linspace(0, frame.tchans * frame.dt*(u.s), 100)\n",
    "\n",
    "f0 = -650\n",
    "f1 = -550\n",
    "\n",
    "drift_min = 0.05\n",
    "drift_max = 1.5\n",
    "\n",
    "plt.plot(f0 + drift_min * t_vals.value, t_vals.value, \"r--\", label=\"0.05 Hz/s\")\n",
    "plt.plot(f1 + drift_max * t_vals.value, t_vals.value, \"b--\", label=\"1.5 Hz/s\")\n",
    "\n",
    "plt.legend()\n",
    "plt.tight_layout()\n",
    "plt.savefig('waterfall.png', bbox_inches='tight',dpi=180)\n",
    "plt.show()"
   ]
  },
  {
   "cell_type": "code",
   "execution_count": 1,
   "id": "915f6d43",
   "metadata": {},
   "outputs": [
    {
     "name": "stderr",
     "output_type": "stream",
     "text": [
      "/home/vlopez/BL_ATA_Alerts/.venv/lib/python3.12/site-packages/blimpy/__init__.py:21: UserWarning: pkg_resources is deprecated as an API. See https://setuptools.pypa.io/en/latest/pkg_resources.html. The pkg_resources package is slated for removal as early as 2025-11-30. Refrain from using this package or pin to Setuptools<81.\n",
      "  from pkg_resources import get_distribution, DistributionNotFound\n"
     ]
    }
   ],
   "source": [
    "from astropy import units as u\n",
    "import setigen as stg\n",
    "import matplotlib.pyplot as plt\n",
    "import numpy as np\n",
    "\n",
    "#3I/ATLAS\n",
    "\n",
    "data_path = '/home/vlopez/BL_ATA_Alerts/.venv/3I_Atlas_Example_Data.fil'\n",
    "frame = stg.Frame(waterfall=data_path)\n",
    "frame.add_signal(stg.constant_path(f_start=frame.get_frequency(index=200),\n",
    "                                            drift_rate=0.44965785159545274*u.Hz/u.s),\n",
    "                          stg.constant_t_profile(level=frame.get_intensity(snr=10000)),\n",
    "                          stg.gaussian_f_profile(width=1000*u.Hz),\n",
    "                          stg.constant_bp_profile(level=1))\n",
    "\n",
    "fig = plt.subplots(figsize=(10, 6))\n",
    "frame.plot()\n",
    "\n",
    "t_vals = np.linspace(0, frame.tchans * frame.dt*(u.s), 100)\n",
    "\n",
    "f0 = 650\n",
    "f1 = 550\n",
    "\n",
    "drift_min = 0.05\n",
    "drift_max = 1.5\n",
    "\n",
    "plt.plot(f0 + drift_min * t_vals.value, t_vals.value, \"r--\", label=\"0.05 Hz/s\")\n",
    "plt.plot(f1 + drift_max * t_vals.value, t_vals.value, \"b--\", label=\"1.5 Hz/s\")\n",
    "\n",
    "plt.legend()\n",
    "plt.tight_layout()\n",
    "#plt.xlim(-20000,20000)\n",
    "plt.savefig('waterfall2.png', bbox_inches='tight',dpi=180)\n",
    "plt.show()"
   ]
  }
 ],
 "metadata": {
  "kernelspec": {
   "display_name": ".venv",
   "language": "python",
   "name": "python3"
  },
  "language_info": {
   "codemirror_mode": {
    "name": "ipython",
    "version": 3
   },
   "file_extension": ".py",
   "mimetype": "text/x-python",
   "name": "python",
   "nbconvert_exporter": "python",
   "pygments_lexer": "ipython3",
   "version": "3.12.3"
  }
 },
 "nbformat": 4,
 "nbformat_minor": 5
}
