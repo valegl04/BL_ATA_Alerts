{
 "cells": [
  {
   "cell_type": "code",
   "execution_count": 1,
   "id": "95d65c58",
   "metadata": {},
   "outputs": [],
   "source": [
    "import pandas as pd\n",
    "import numpy as np\n",
    "import math"
   ]
  },
  {
   "cell_type": "code",
   "execution_count": 3,
   "id": "14f32c76",
   "metadata": {},
   "outputs": [
    {
     "name": "stdout",
     "output_type": "stream",
     "text": [
      "S_(sys)         S_min (Jy)    S_min (W/m^2/Hz)   S_min (W/m^2)   EIRP (W)        WORST EIRP (W)\n",
      "526.2887721     226.8229      2.2682e-24         4.3096e-24      1.1710e+01      1.0340e+02\n",
      "568.1747965     244.8751      2.4488e-24         4.6526e-24      1.2642e+01      1.1163e+02\n",
      "620.8428094     267.5743      2.6757e-24         5.0839e-24      1.3814e+01      1.2198e+02\n",
      "613.699089      264.4954      2.6450e-24         5.0254e-24      1.3655e+01      1.2057e+02\n",
      "744.1717447     320.7273      3.2073e-24         6.0938e-24      1.6558e+01      1.4621e+02\n",
      "841.6958766     362.7588      3.6276e-24         6.8924e-24      1.8728e+01      1.6537e+02\n",
      "839.2605775     361.7092      3.6171e-24         6.8725e-24      1.8674e+01      1.6489e+02\n",
      "883.3997018     380.7325      3.8073e-24         7.2339e-24      1.9656e+01      1.7356e+02\n",
      "1016.429535     438.0664      4.3807e-24         8.3233e-24      2.2616e+01      1.9970e+02\n",
      "1097.413778     472.9695      4.7297e-24         8.9864e-24      2.4418e+01      2.1561e+02\n",
      "1270.779288     547.6875      5.4769e-24         1.0406e-23      2.8275e+01      2.4967e+02\n",
      "1509.357479     650.5113      6.5051e-24         1.2360e-23      3.3583e+01      2.9654e+02\n"
     ]
    }
   ],
   "source": [
    "sn = 15 #desired threshold\n",
    "b = 1 #dechirping efficiency (we assumed the ideal situation, therefore is 1)\n",
    "beta = 1.9/16.777216  #worst situation v/time per pixel which is 16.777\n",
    "v = 1.9 #bandwidths of transmitted and received narrowband signals (we assumed they have the same bandwidth)\n",
    "n = 2 #number of polarizations\n",
    "t = 318.767104 #integration time\n",
    "D_m = 465e9 #Distance 3I/Atlas from Earth in km\n",
    "\n",
    "sys = np.array([526.2887721, 568.1747965, 620.8428094, 613.699089, #system equivalent flux density for each dual polarization SEFD calculated in the excel\n",
    "         744.1717447, 841.6958766, 839.2605775, 883.3997018,\n",
    "         1016.429535, 1097.413778, 1270.779288, 1509.357479])\n",
    "\n",
    "# Calculate the minimum detectable flux (S_min) and the EIRP using the given parameters.\n",
    "\n",
    "table = []\n",
    "\n",
    "i= 0 \n",
    "for s in sys:\n",
    "    #minimum detectable flux in Janskys\n",
    "    #minimum amount of energy per square meter that your antenna can detect\n",
    "    Smin_Jy = (sn/b)*(s/v)* math.sqrt(v/(n*t)) \n",
    "\n",
    "    #Convert to W/m^2/Hz\n",
    "    Smin_wm2_hz = Smin_Jy * 1e-26\n",
    "\n",
    "    #Convert to Watts per meter square (W/m^2). Bandwidth in Hz (default 1 MHz = 1e6 Hz)\n",
    "    Smin_watts = Smin_Jy * 1e-26 * 1.9\n",
    "\n",
    "    #effective isotropic radiated power in watts per Hz\n",
    "    #how powerful a signal would need to be to be detected at that distance\n",
    "    #Best case escenario beta = 1\n",
    "    EIRP = Smin_watts * 4 * math.pi * D_m**2\n",
    "    #Worst case escenario beta = 0.11\n",
    "    WO_EIRP = (sn/beta)*(s/v)* math.sqrt(v/(n*t)) * 1e-26 * 1.9 * 4 * math.pi * D_m**2\n",
    "\n",
    "    table.append((\n",
    "        s, round(Smin_Jy, 4), \n",
    "        f\"{Smin_wm2_hz:.4e}\", \n",
    "        f\"{Smin_watts:.4e}\",\n",
    "        f\"{EIRP:.4e}\",\n",
    "        f\"{WO_EIRP:.4e}\"\n",
    "    ))\n",
    "    \n",
    "    i+=1\n",
    "\n",
    "print(f\"{'S_(sys)':<15} {'S_min (Jy)':<13} {'S_min (W/m^2/Hz)':<18} {'S_min (W/m^2)':<15} {'EIRP (W)':<15} {'WORST EIRP (W)'}\")\n",
    "\n",
    "for row in table:\n",
    "    print (f\"{row[0]:<15} {row[1]:<13} {row[2]:<18} {row[3]:<15} {row[4]:<15} {row[5]}\")\n",
    "\n"
   ]
  }
 ],
 "metadata": {
  "kernelspec": {
   "display_name": "hyper",
   "language": "python",
   "name": "python3"
  },
  "language_info": {
   "codemirror_mode": {
    "name": "ipython",
    "version": 3
   },
   "file_extension": ".py",
   "mimetype": "text/x-python",
   "name": "python",
   "nbconvert_exporter": "python",
   "pygments_lexer": "ipython3",
   "version": "3.10.10"
  }
 },
 "nbformat": 4,
 "nbformat_minor": 5
}
