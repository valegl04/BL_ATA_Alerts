{
 "cells": [
  {
   "cell_type": "code",
   "execution_count": 15,
   "id": "95d65c58",
   "metadata": {},
   "outputs": [],
   "source": [
    "import pandas as pd\n",
    "import numpy as np\n",
    "import math"
   ]
  },
  {
   "cell_type": "code",
   "execution_count": 16,
   "id": "14f32c76",
   "metadata": {},
   "outputs": [
    {
     "name": "stdout",
     "output_type": "stream",
     "text": [
      "S_(sys)         S_min (Jy)    S_min (W/m^2/Hz)   S_min (W/m^2)   EIRP (W/Hz)\n",
      "526.2887721     226.8229      2.2682e-24         2.2682e-18      6.1631e-06\n",
      "568.1747965     244.8751      2.4488e-24         2.4488e-18      6.6537e-06\n",
      "620.8428094     267.5743      2.6757e-24         2.6757e-18      7.2704e-06\n",
      "613.699089      264.4954      2.6450e-24         2.6450e-18      7.1868e-06\n",
      "744.1717447     320.7273      3.2073e-24         3.2073e-18      8.7147e-06\n",
      "841.6958766     362.7588      3.6276e-24         3.6276e-18      9.8567e-06\n",
      "839.2605775     361.7092      3.6171e-24         3.6171e-18      9.8282e-06\n",
      "883.3997018     380.7325      3.8073e-24         3.8073e-18      1.0345e-05\n",
      "1211.9113       522.3163      5.2232e-24         5.2232e-18      1.4192e-05\n",
      "1301.121824     560.7647      5.6076e-24         5.6076e-18      1.5237e-05\n",
      "1516.728057     653.6879      6.5369e-24         6.5369e-18      1.7762e-05\n",
      "1786.643781     770.0177      7.7002e-24         7.7002e-18      2.0923e-05\n"
     ]
    }
   ],
   "source": [
    "sn = 15 #desired threshold\n",
    "b = 1  #dechirping efficiency (we assumed the ideal situation, therefore is 1)\n",
    "v = 1.9 #bandwidths of transmitted and received narrowband signals (we assumed they have the same bandwidth)\n",
    "n = 2 #number of polarizations\n",
    "t = 318.767104 #integration time\n",
    "D_km = 465e6 #Distance 3I/Atlas from Earth in km\n",
    "\n",
    "sys = np.array([526.2887721, 568.1747965, 620.8428094, 613.699089, #system equivalent flux density for each dual polarization SEFD calculated in the excel\n",
    "         744.1717447, 841.6958766, 839.2605775, 883.3997018,\n",
    "         1211.9113, 1301.121824, 1516.728057, 1786.643781])\n",
    "\n",
    "# Calculate the minimum detectable flux (S_min) and the EIRP using the given parameters.\n",
    "\n",
    "table = []\n",
    "\n",
    "i= 0 \n",
    "for s in sys:\n",
    "    #minimum detectable flux in Janskys\n",
    "    #minimum amount of energy per square meter that your antenna can detect\n",
    "    Smin_Jy = (sn/b)*(s/v)* math.sqrt(v/(n*t)) \n",
    "\n",
    "    #Convert to W/m^2/Hz\n",
    "    Smin_wm2_hz = Smin_Jy * 1e-26\n",
    "\n",
    "    #Convert to Watts per meter square (W/m^2). Bandwidth in Hz (default 1 MHz = 1e6 Hz)\n",
    "    Smin_watts = Smin_Jy * 1e-26 * 1e6 \n",
    "\n",
    "    #effective isotropic radiated power in watts per Hz\n",
    "    #how powerful a signal would need to be to be detected at that distance\n",
    "    EIRP = Smin_wm2_hz * 4 * math.pi * D_km**2\n",
    "\n",
    "    table.append((\n",
    "        s, round(Smin_Jy, 4), \n",
    "        f\"{Smin_wm2_hz:.4e}\", \n",
    "        f\"{Smin_watts:.4e}\",\n",
    "        f\"{EIRP:.4e}\"\n",
    "        ))\n",
    "    \n",
    "    i+=1\n",
    "\n",
    "print(f\"{'S_(sys)':<15} {'S_min (Jy)':<13} {'S_min (W/m^2/Hz)':<18} {'S_min (W/m^2)':<15} {'EIRP (W/Hz)'}\")\n",
    "\n",
    "for row in table:\n",
    "    print (f\"{row[0]:<15} {row[1]:<13} {row[2]:<18} {row[3]:<15} {row[4]}\")\n",
    "\n"
   ]
  }
 ],
 "metadata": {
  "kernelspec": {
   "display_name": "hyper",
   "language": "python",
   "name": "python3"
  },
  "language_info": {
   "codemirror_mode": {
    "name": "ipython",
    "version": 3
   },
   "file_extension": ".py",
   "mimetype": "text/x-python",
   "name": "python",
   "nbconvert_exporter": "python",
   "pygments_lexer": "ipython3",
   "version": "3.10.10"
  }
 },
 "nbformat": 4,
 "nbformat_minor": 5
}
