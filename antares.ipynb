{
 "cells": [
  {
   "cell_type": "code",
   "execution_count": 13,
   "id": "9729c588",
   "metadata": {},
   "outputs": [
    {
     "name": "stdout",
     "output_type": "stream",
     "text": [
      "60834.16384289074\n"
     ]
    },
    {
     "name": "stderr",
     "output_type": "stream",
     "text": [
      "/var/folders/z0/kkt653vs1rscq9_7hh77yyyr0000gn/T/ipykernel_12849/3435881952.py:4: DeprecationWarning: datetime.datetime.utcnow() is deprecated and scheduled for removal in a future version. Use timezone-aware objects to represent datetimes in UTC: datetime.datetime.now(datetime.UTC).\n",
      "  now = Time(datetime.datetime.utcnow()).mjd\n"
     ]
    }
   ],
   "source": [
    "from astropy.time import Time\n",
    "import datetime\n",
    "\n",
    "now = Time(datetime.datetime.utcnow()).mjd\n",
    "thirty_days_ago = now - 30\n",
    "print(thirty_days_ago)\n"
   ]
  },
  {
   "cell_type": "code",
   "execution_count": 16,
   "id": "ad6a341b",
   "metadata": {},
   "outputs": [
    {
     "name": "stdout",
     "output_type": "stream",
     "text": [
      "/Users/valegarcia/Documents/GitHub/BL_ATA_Alerts/env/bin/python\n"
     ]
    },
    {
     "ename": "ModuleNotFoundError",
     "evalue": "No module named 'antares_client'",
     "output_type": "error",
     "traceback": [
      "\u001b[31m---------------------------------------------------------------------------\u001b[39m",
      "\u001b[31mModuleNotFoundError\u001b[39m                       Traceback (most recent call last)",
      "\u001b[36mCell\u001b[39m\u001b[36m \u001b[39m\u001b[32mIn[16]\u001b[39m\u001b[32m, line 3\u001b[39m\n\u001b[32m      1\u001b[39m \u001b[38;5;28;01mimport\u001b[39;00m\u001b[38;5;250m \u001b[39m\u001b[34;01msys\u001b[39;00m\n\u001b[32m      2\u001b[39m \u001b[38;5;28mprint\u001b[39m(sys.executable)\n\u001b[32m----> \u001b[39m\u001b[32m3\u001b[39m \u001b[38;5;28;01mfrom\u001b[39;00m\u001b[38;5;250m \u001b[39m\u001b[34;01mantares_client\u001b[39;00m\u001b[38;5;250m \u001b[39m\u001b[38;5;28;01mimport\u001b[39;00m AntaresClient\n\u001b[32m      5\u001b[39m client = AntaresClient()\n\u001b[32m      6\u001b[39m \u001b[38;5;28mprint\u001b[39m(client)\n",
      "\u001b[31mModuleNotFoundError\u001b[39m: No module named 'antares_client'"
     ]
    }
   ],
   "source": [
    "import sys\n",
    "print(sys.executable)\n",
    "from antares_client import AntaresClient\n",
    "\n",
    "client = AntaresClient()\n",
    "print(client)\n"
   ]
  },
  {
   "cell_type": "code",
   "execution_count": 11,
   "id": "69ba1980",
   "metadata": {},
   "outputs": [
    {
     "ename": "ModuleNotFoundError",
     "evalue": "No module named 'antares_client'",
     "output_type": "error",
     "traceback": [
      "\u001b[31m---------------------------------------------------------------------------\u001b[39m",
      "\u001b[31mModuleNotFoundError\u001b[39m                       Traceback (most recent call last)",
      "\u001b[36mCell\u001b[39m\u001b[36m \u001b[39m\u001b[32mIn[11]\u001b[39m\u001b[32m, line 1\u001b[39m\n\u001b[32m----> \u001b[39m\u001b[32m1\u001b[39m \u001b[38;5;28;01mfrom\u001b[39;00m\u001b[38;5;250m \u001b[39m\u001b[34;01mantares_client\u001b[39;00m\u001b[38;5;250m \u001b[39m\u001b[38;5;28;01mimport\u001b[39;00m AntaresClient\n\u001b[32m      3\u001b[39m client = AntaresClient()\n\u001b[32m      6\u001b[39m query = {\n\u001b[32m      7\u001b[39m     \u001b[33m\"\u001b[39m\u001b[33mquery\u001b[39m\u001b[33m\"\u001b[39m: {\n\u001b[32m      8\u001b[39m         \u001b[33m\"\u001b[39m\u001b[33mbool\u001b[39m\u001b[33m\"\u001b[39m: {\n\u001b[32m   (...)\u001b[39m\u001b[32m     38\u001b[39m     }\n\u001b[32m     39\u001b[39m }\n",
      "\u001b[31mModuleNotFoundError\u001b[39m: No module named 'antares_client'"
     ]
    }
   ],
   "source": [
    "from antares_client import AntaresClient\n",
    "\n",
    "client = AntaresClient()\n",
    "\n",
    "\n",
    "query = {\n",
    "    \"query\": {\n",
    "        \"bool\": {\n",
    "            \"must\": [\n",
    "                {\n",
    "                    \"range\": {\n",
    "                        \"properties.newest_alert_observation_time\": {\n",
    "                            \"gte\": 60834.134303013045  # replace with current MJD - 30\n",
    "                        }\n",
    "                    }\n",
    "                },\n",
    "                {\n",
    "                    \"range\": {\n",
    "                        \"properties.brightest_alert_magnitude\": {\n",
    "                            \"lte\": 16.5\n",
    "                        }\n",
    "                    }\n",
    "                },\n",
    "                {\n",
    "                    \"terms\": {\n",
    "                        \"watch_list_ids\": [\"2119\"]\n",
    "                    }\n",
    "                }\n",
    "            ],\n",
    "            \"must_not\": [\n",
    "                {\n",
    "                    \"match\": {\n",
    "                        \"properties.classification\": \"VS\"\n",
    "                    }\n",
    "                }\n",
    "            ]\n",
    "        }\n",
    "    }\n",
    "}\n",
    "\n",
    "# Running the query\n",
    "for locus in search(query):\n",
    "    print(\n",
    "        locus.get('locus_id'),\n",
    "        locus.get('properties', {}).get('brightest_alert_magnitude'),\n",
    "        locus.get('properties', {}).get('classification')\n",
    "    )\n"
   ]
  }
 ],
 "metadata": {
  "kernelspec": {
   "display_name": "env",
   "language": "python",
   "name": "python3"
  },
  "language_info": {
   "codemirror_mode": {
    "name": "ipython",
    "version": 3
   },
   "file_extension": ".py",
   "mimetype": "text/x-python",
   "name": "python",
   "nbconvert_exporter": "python",
   "pygments_lexer": "ipython3",
   "version": "3.13.1"
  }
 },
 "nbformat": 4,
 "nbformat_minor": 5
}
