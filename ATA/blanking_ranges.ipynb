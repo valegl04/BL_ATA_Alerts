{
 "cells": [
  {
   "cell_type": "code",
   "execution_count": null,
   "id": "9bc89a8f",
   "metadata": {},
   "outputs": [],
   "source": [
    "import pandas as pd\n",
    "import numpy as np\n",
    "import matplotlib.pyplot as plt\n",
    "import matplotlib as mpl\n",
    "import plotly.express as px\n",
    "\n",
    "node = \"MA_C1504\"  # Adjust as needed\n",
    "filestem = \"mid_freq/MA_C1504\"\n",
    "\n",
    "print(\"**********************************\")\n",
    "print(\"Beginning quick node plotter for:\", node + \"/\" + filestem) \n",
    "print(\"**********************************\")\n",
    "\n",
    "# Read your unblanked bliss results file\n",
    "unblanked_bliss_results = pd.read_csv(\n",
    "    filestem + \".dat\",\n",
    "    skiprows=9,\n",
    "    delim_whitespace=True,  # using whitespace since your file preview has space separation\n",
    "    usecols=[0, 1, 2, 3],\n",
    "    names=[\"Top_Hit_#\", \"Drift_Rate\", \"SNR\", \"Uncorrected_Frequency\"]\n",
    ")"
   ]
  },
  {
   "cell_type": "code",
   "execution_count": null,
   "id": "6e41484e",
   "metadata": {},
   "outputs": [],
   "source": [
    "print(\"Number of hits: \", len(unblanked_bliss_results))\n",
    "\n",
    "fig, ax = plt.subplots(figsize=(10,6))\n",
    "\n",
    "cmap = mpl.cm.cool\n",
    "\n",
    "scatter = ax.scatter(unblanked_bliss_results['Uncorrected_Frequency'],\n",
    "                     unblanked_bliss_results['Drift_Rate'], \n",
    "                     c=np.log10(unblanked_bliss_results['SNR']), \n",
    "                     alpha=0.7,\n",
    "                     cmap='plasma')\n",
    "\n",
    "plt.xlabel(\"Frequency (MHz)\")\n",
    "plt.ylabel(\"Drift Rate (Hz/s)\")\n",
    "\n",
    "fig.colorbar(scatter)"
   ]
  },
  {
   "cell_type": "code",
   "execution_count": null,
   "id": "c39a5b07",
   "metadata": {},
   "outputs": [],
   "source": [
    "print(\"Number of hits: \", len(unblanked_bliss_results))\n",
    "\n",
    "# Add log10 SNR for color scale\n",
    "unblanked_bliss_results['logSNR'] = np.log10(unblanked_bliss_results['SNR'])\n",
    "\n",
    "fig = px.scatter(\n",
    "    unblanked_bliss_results,\n",
    "    x=\"Uncorrected_Frequency\",\n",
    "    y=\"Drift_Rate\",\n",
    "    color=\"logSNR\",\n",
    "    color_continuous_scale=\"plasma\",         \n",
    "    hover_name=\"Top_Hit_#\",        \n",
    "    labels={\"Uncorrected_Frequency\": \"Frequency (MHz)\",\n",
    "            \"Drift_Rate\": \"Drift Rate (Hz/s)\",\n",
    "            \"logSNR\": \"log10(SNR)\"},\n",
    "    title=f\"Node: {node}\"\n",
    ")\n",
    "\n",
    "# Tweak marker size\n",
    "fig.update_traces(marker=dict(size=5))\n",
    "\n",
    "fig.show()\n"
   ]
  },
  {
   "cell_type": "code",
   "execution_count": null,
   "id": "8d6e0a19",
   "metadata": {},
   "outputs": [],
   "source": [
    "plt.hist(unblanked_bliss_results['Uncorrected_Frequency'], bins=100, color='blue', alpha=0.7)\n"
   ]
  },
  {
   "cell_type": "code",
   "execution_count": null,
   "id": "ad266d54",
   "metadata": {},
   "outputs": [],
   "source": [
    "# define frequency ranges to blank, in MHz\n",
    "\n",
    "blanking_ranges = [[4144,4178],[4190,4201],\n",
    "                   ]\n",
    "\n",
    "drift_ranges = [[-0.05,0.05]]\n",
    "\n",
    "# remove hits in blanked ranges\n",
    "for range in blanking_ranges:\n",
    "    unblanked_bliss_results = unblanked_bliss_results[~unblanked_bliss_results[\"Uncorrected_Frequency\"].between(range[0], range[1])]\n",
    "for range in drift_ranges:\n",
    "    unblanked_bliss_results = unblanked_bliss_results[~unblanked_bliss_results[\"Drift_Rate\"].between(range[0], range[1])]"
   ]
  },
  {
   "cell_type": "code",
   "execution_count": null,
   "id": "fa364fcf",
   "metadata": {},
   "outputs": [],
   "source": [
    "fig, ax = plt.subplots(figsize=(10,6))\n",
    "\n",
    "cmap = mpl.cm.cool\n",
    "\n",
    "scatter = ax.scatter(unblanked_bliss_results['Uncorrected_Frequency'],\n",
    "                     unblanked_bliss_results['Drift_Rate'], \n",
    "                     c=np.log10(unblanked_bliss_results['SNR']), \n",
    "                     alpha=0.7,\n",
    "                     cmap='plasma')\n",
    "\n",
    "plt.xlabel(\"Frequency (MHz)\")\n",
    "plt.ylabel(\"Drift Rate (Hz/s)\")\n",
    "\n",
    "fig.colorbar(scatter)\n",
    "print(\"Number of hits: \", len(unblanked_bliss_results))"
   ]
  },
  {
   "cell_type": "code",
   "execution_count": null,
   "id": "6fbbd4de",
   "metadata": {},
   "outputs": [],
   "source": [
    "plt.hist(unblanked_bliss_results['Uncorrected_Frequency'], bins=100, color='blue', alpha=0.7)\n"
   ]
  },
  {
   "cell_type": "code",
   "execution_count": null,
   "id": "aa88cff9",
   "metadata": {},
   "outputs": [],
   "source": [
    "plt.hist(unblanked_bliss_results['Drift_Rate'], log=True, bins=100, color='red', alpha=0.7)"
   ]
  },
  {
   "cell_type": "code",
   "execution_count": null,
   "id": "0cb425f9",
   "metadata": {},
   "outputs": [],
   "source": [
    "print(\"Number of hits: \", len(unblanked_bliss_results))\n",
    "\n",
    "# Add log10 SNR for color scale\n",
    "unblanked_bliss_results['logSNR'] = np.log10(unblanked_bliss_results['SNR'])\n",
    "\n",
    "fig = px.scatter(\n",
    "    unblanked_bliss_results,\n",
    "    x=\"Uncorrected_Frequency\",\n",
    "    y=\"Drift_Rate\",\n",
    "    color=\"logSNR\",\n",
    "    color_continuous_scale=\"plasma\",       \n",
    "    hover_name=\"Top_Hit_#\",        \n",
    "    labels={\"Uncorrected_Frequency\": \"Frequency (MHz)\",\n",
    "            \"Drift_Rate\": \"Drift Rate (Hz/s)\",\n",
    "            \"logSNR\": \"log10(SNR)\"},\n",
    "    title=f\"Node: {node}\"\n",
    ")\n",
    "\n",
    "# Tweak marker size\n",
    "fig.update_traces(marker=dict(size=5))\n",
    "\n",
    "fig.show()"
   ]
  },
  {
   "cell_type": "code",
   "execution_count": null,
   "id": "c4d0ce3c",
   "metadata": {},
   "outputs": [],
   "source": []
  },
  {
   "cell_type": "code",
   "execution_count": null,
   "id": "be0c8026",
   "metadata": {},
   "outputs": [],
   "source": []
  }
 ],
 "metadata": {
  "kernelspec": {
   "display_name": "env",
   "language": "python",
   "name": "python3"
  },
  "language_info": {
   "codemirror_mode": {
    "name": "ipython",
    "version": 3
   },
   "file_extension": ".py",
   "mimetype": "text/x-python",
   "name": "python",
   "nbconvert_exporter": "python",
   "pygments_lexer": "ipython3",
   "version": "3.13.1"
  }
 },
 "nbformat": 4,
 "nbformat_minor": 5
}
