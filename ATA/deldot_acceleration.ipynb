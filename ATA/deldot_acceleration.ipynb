{
 "cells": [
  {
   "cell_type": "code",
   "execution_count": null,
   "id": "9eb645f3",
   "metadata": {},
   "outputs": [],
   "source": [
    "import pandas as pd\n",
    "import matplotlib.pyplot as plt\n",
    "import numpy as np\n",
    "from datetime import datetime, timedelta"
   ]
  },
  {
   "cell_type": "code",
   "execution_count": null,
   "id": "39ceb5bb",
   "metadata": {},
   "outputs": [],
   "source": [
    "file = \"horizons_results (2).txt\"\n",
    "# i manually did added \"|\" characters, so i could mark the column split locations\n",
    "hdr  = ' Date__(UT)__HR:MN    |R.A._____(ICRF)_____DEC |R.A.__(a-apparent)__DEC |Azi____(a-app)___Elev |X_(sat-primary)_Y|SatPANG  | T-mag  |N-mag  |   Illu% | ang-sep/v |ObsSub-LON|ObsSub-LAT  | NP.ang | NP.dist  |             r|       rdot |           delta|     deldot |   S-T-O   |    TDB-UT| Sky_motion |Sky_mot_PA |RelVel-ANG |Lun_Sky_Brt |sky_SNR'\n",
    "cols = hdr.split('|')\n",
    "names = cols\n",
    "\n",
    "widths = np.zeros(len(cols),dtype=int)\n",
    "for k in range(len(cols)):\n",
    "    widths[k] = int(len(cols[k]) + 1)\n",
    "    names[k] = cols[k].strip() # make a clean version of the column names\n",
    "\n",
    "\n",
    "# this reads all columns correctly, and skips the header, but doesnt skip the footer\n",
    "df = pd.read_fwf(file, skiprows=71, names = names, widths=widths)\n",
    "\n",
    "df = df.iloc[0:21601,:] # had to find this row limit manually to drop the footer"
   ]
  },
  {
   "cell_type": "code",
   "execution_count": null,
   "id": "93f3cb57",
   "metadata": {},
   "outputs": [],
   "source": [
    "df['date'] = pd.to_datetime( df['Date__(UT)__HR:MN'].str[0:17] )\n",
    "df[\"deldot\"] = df[\"deldot\"].astype(float)\n",
    "df[\"acceleration\"] = df[\"deldot\"].astype(float).diff() / 60\n",
    "\n",
    "print(df[[\"date\", \"deldot\", \"acceleration\"]].head(20))"
   ]
  },
  {
   "cell_type": "code",
   "execution_count": null,
   "id": "462c2f31",
   "metadata": {},
   "outputs": [],
   "source": [
    "plt.figure(figsize=(12, 6))\n",
    "plt.plot(df[\"date\"], df['deldot'].astype(float), color='blue', label=\"Line of Sight Velocity\")\n",
    "plt.xlabel(\"Time (UTC)\")\n",
    "plt.ylabel(\"Deldot (km/s)\")\n",
    "plt.title(\"Deldot vs Time\")\n",
    "plt.grid(True)\n",
    "plt.legend()\n",
    "\n",
    "plt.tight_layout()\n",
    "plt.show()"
   ]
  },
  {
   "cell_type": "code",
   "execution_count": null,
   "id": "06b24113",
   "metadata": {},
   "outputs": [],
   "source": [
    "observation_time = [\n",
    "    (\"2025-07-03-05:10:38\", 78),\n",
    "    (\"2025-07-05-04:50:14\", 66),\n",
    "    (\"2025-07-08-04:52:40\", 204),\n",
    "    (\"2025-07-09-05:20:16\", 90),\n",
    "    (\"2025-07-10-05:16:28\", 18),\n",
    "]"
   ]
  },
  {
   "cell_type": "code",
   "execution_count": null,
   "id": "f7605e62",
   "metadata": {},
   "outputs": [],
   "source": [
    "plt.figure(figsize=(12, 6))\n",
    "plt.plot(df[\"date\"], df[\"acceleration\"], color='#e41a1c')\n",
    "\n",
    "for start_time, duration in observation_time:\n",
    "    start = pd.to_datetime(start_time, format=\"%Y-%m-%d-%H:%M:%S\")\n",
    "    end = start + timedelta(minutes=duration)\n",
    "    plt.axvspan(start, end, color='orange', alpha=0.3)\n",
    "\n",
    "    #Getting the average and standard deviation of acceleration in this time chunk\n",
    "    data_in_chunk = df[(df[\"date\"] >= start) & (df[\"date\"] < end)][\"acceleration\"].dropna()\n",
    "    if not data_in_chunk.empty:\n",
    "        avg_acceleration = data_in_chunk.mean()\n",
    "        std_acceleration = data_in_chunk.std()\n",
    "        print(f\"Date: {start}; AVG Acceleration: {avg_acceleration} km/s²; STD Acceleration: {std_acceleration} km/s²\")\n",
    "\n",
    "\n",
    "plt.xlabel(\"Time (UTC)\")\n",
    "plt.ylabel(\"Acceleration (km/s²)\")\n",
    "plt.xlim(left=pd.to_datetime(\"2025-07-02-05:00:00\"), right=pd.to_datetime(\"2025-07-11-05:30:00\"))\n",
    "#plt.title(\"Acceleration vs Time\")\n",
    "plt.legend()\n",
    "plt.tight_layout()\n",
    "plt.show()\n"
   ]
  },
  {
   "cell_type": "code",
   "execution_count": null,
   "id": "a25de0c6",
   "metadata": {},
   "outputs": [],
   "source": []
  }
 ],
 "metadata": {
  "kernelspec": {
   "display_name": "env",
   "language": "python",
   "name": "python3"
  },
  "language_info": {
   "codemirror_mode": {
    "name": "ipython",
    "version": 3
   },
   "file_extension": ".py",
   "mimetype": "text/x-python",
   "name": "python",
   "nbconvert_exporter": "python",
   "pygments_lexer": "ipython3",
   "version": "3.13.1"
  }
 },
 "nbformat": 4,
 "nbformat_minor": 5
}
