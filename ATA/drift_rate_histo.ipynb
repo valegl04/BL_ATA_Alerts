{
 "cells": [
  {
   "cell_type": "code",
   "execution_count": 1,
   "id": "414625b9",
   "metadata": {},
   "outputs": [
    {
     "name": "stdout",
     "output_type": "stream",
     "text": [
      "**********************************\n",
      "Beginning quick node plotter for: Low/LOW_1336-4024_beam0000_unblanked/LOW_1336-4024_beam0000_unblanked\n",
      "**********************************\n"
     ]
    },
    {
     "name": "stderr",
     "output_type": "stream",
     "text": [
      "/var/folders/z0/kkt653vs1rscq9_7hh77yyyr0000gn/T/ipykernel_33213/1203419494.py:16: FutureWarning: The 'delim_whitespace' keyword in pd.read_csv is deprecated and will be removed in a future version. Use ``sep='\\s+'`` instead\n",
      "  bliss_results = pd.read_csv(\n",
      "/var/folders/z0/kkt653vs1rscq9_7hh77yyyr0000gn/T/ipykernel_33213/1203419494.py:24: FutureWarning: The 'delim_whitespace' keyword in pd.read_csv is deprecated and will be removed in a future version. Use ``sep='\\s+'`` instead\n",
      "  unblanked_bliss_results = pd.read_csv(\n"
     ]
    },
    {
     "name": "stdout",
     "output_type": "stream",
     "text": [
      "          Top_Hit_#  Drift_Rate         SNR  Uncorrected_Frequency\n",
      "3                10    0.694753   15.661238             999.842431\n",
      "4                11    0.088423   22.331272             999.978462\n",
      "7                14    0.480011   15.100116             999.978469\n",
      "13               20    0.113687   44.853806            1000.004082\n",
      "17               24    0.082107   25.388191            1000.004290\n",
      "...             ...         ...         ...                    ...\n",
      "28417002         85    0.852651   86.013840            8336.002748\n",
      "28417004         87    1.477929   15.522194            8336.013403\n",
      "28417005         88    1.421085  213.289383            8335.998543\n",
      "28417027          1    0.284217   19.132196            8648.000264\n",
      "28417029          3    0.170530   90.635178            8648.000001\n",
      "\n",
      "[5604282 rows x 4 columns]\n"
     ]
    }
   ],
   "source": [
    "import pandas as pd\n",
    "import numpy as np\n",
    "import matplotlib.pyplot as plt\n",
    "import plotly.express as px\n",
    "\n",
    "node = \"Low\"  # Adjust as needed\n",
    "filestem = \"LOW_1336-4024_beam0000_unblanked\"\n",
    "unblankedfile = \"LOW_1336-4024_beam0000_unblanked\"\n",
    "\n",
    "print(\"**********************************\")\n",
    "print(\"Beginning quick node plotter for:\", node + \"/\" + filestem + \"/\" + unblankedfile) \n",
    "print(\"**********************************\")\n",
    "\n",
    "# Read your unblanked bliss results file\n",
    "\n",
    "bliss_results = pd.read_csv(\n",
    "    filestem + \".dat\",\n",
    "    skiprows=9,\n",
    "    delim_whitespace=True, \n",
    "    usecols=[0, 1, 2, 3],\n",
    "    names=[\"Top_Hit_#\", \"Drift_Rate\", \"SNR\", \"Uncorrected_Frequency\"]\n",
    ")\n",
    "\n",
    "unblanked_bliss_results = pd.read_csv(\n",
    "    unblankedfile + \".dat\",\n",
    "    skiprows=9,\n",
    "    delim_whitespace=True, \n",
    "    usecols=[0, 1, 2, 3],\n",
    "    names=[\"Top_Hit_#\", \"Drift_Rate\", \"SNR\", \"Uncorrected_Frequency\"]\n",
    ")\n",
    "\n",
    "filtered_bliss = bliss_results[(bliss_results['Drift_Rate'] >= 0.05) & (bliss_results['Drift_Rate'] <= 1.5)]\n",
    "\n",
    "print(filtered_bliss)"
   ]
  },
  {
   "cell_type": "code",
   "execution_count": 2,
   "id": "4528a330",
   "metadata": {},
   "outputs": [
    {
     "name": "stdout",
     "output_type": "stream",
     "text": [
      "          Top_Hit_#  Drift_Rate         SNR  Uncorrected_Frequency\n",
      "28053466          1   -0.625278   20.957731            4199.984677\n",
      "28053467          2   -0.227374   17.178114            4199.984006\n",
      "28053468          3    1.364242   15.852699            4199.982213\n",
      "28053469          4   -0.170530   37.346916            4199.837555\n",
      "28053470          5   -0.056843  160.104843            4199.896575\n",
      "...             ...         ...         ...                    ...\n",
      "28417025          6    3.012701   31.374090            8518.341591\n",
      "28417026          7    1.534772   15.586531            8571.649154\n",
      "28417027          1    0.284217   19.132196            8648.000264\n",
      "28417028          2   -0.738964   15.000870            8647.971904\n",
      "28417029          3    0.170530   90.635178            8648.000001\n",
      "\n",
      "[2798 rows x 4 columns]\n"
     ]
    }
   ],
   "source": [
    "lol = unblanked_bliss_results[(unblanked_bliss_results['Uncorrected_Frequency'] >= 3702)]\n",
    "print(lol)\n"
   ]
  },
  {
   "cell_type": "code",
   "execution_count": null,
   "id": "817ebff9",
   "metadata": {},
   "outputs": [],
   "source": [
    "# Histogram of the Drift Rate\n",
    "\n",
    "bin = np.linspace(-4, 4, 150)\n",
    "\n",
    "plt.figure(figsize=(12, 6))\n",
    "plt.hist(unblanked_bliss_results['Drift_Rate'], log=True, bins=bin, color='#e41a1c', alpha=0.7)\n",
    "plt.hist(bliss_results['Drift_Rate'], log=True, bins=bin, color='blue', alpha=0.7)\n",
    "plt.hist(filtered_bliss['Drift_Rate'], log=True, bins=bin, color='#4daf4a', alpha=0.7)\n",
    "plt.xlim(-4, 4)\n",
    "plt.xlabel('Drift Rate (Hz/s)')  \n",
    "plt.ylabel('Count of Hits (log scale)')                     \n",
    "#plt.title(f'{node} Drift Rates')  \n",
    "\n",
    "\n",
    "plt.show()"
   ]
  },
  {
   "cell_type": "code",
   "execution_count": null,
   "id": "8f112eb9",
   "metadata": {},
   "outputs": [],
   "source": [
    "# Histogram of the SNR\n",
    "\n",
    "bin = np.linspace(0, 2000, 150)\n",
    "\n",
    "plt.figure(figsize=(12, 6))\n",
    "plt.hist(unblanked_bliss_results['SNR'], log=True, bins=bin, color='#e41a1c', alpha=0.7)\n",
    "plt.hist(bliss_results['SNR'], log=True, bins=bin, color='blue', alpha=0.7)\n",
    "plt.hist(filtered_bliss['SNR'], log=True, bins=bin, color='#4daf4a', alpha=0.7)\n",
    "plt.xlim(right=2000)\n",
    "plt.xlabel('SNR')  \n",
    "plt.ylabel('Count of Hits (log scale)')                     \n",
    "#plt.title('Signal-to-Noise Ratio (SNR) from 1-9 MHz')\n",
    "\n",
    "\n",
    "plt.show()"
   ]
  }
 ],
 "metadata": {
  "kernelspec": {
   "display_name": "env",
   "language": "python",
   "name": "python3"
  },
  "language_info": {
   "codemirror_mode": {
    "name": "ipython",
    "version": 3
   },
   "file_extension": ".py",
   "mimetype": "text/x-python",
   "name": "python",
   "nbconvert_exporter": "python",
   "pygments_lexer": "ipython3",
   "version": "3.13.1"
  }
 },
 "nbformat": 4,
 "nbformat_minor": 5
}
