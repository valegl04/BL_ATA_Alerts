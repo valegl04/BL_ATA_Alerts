{
 "cells": [
  {
   "cell_type": "code",
   "execution_count": null,
   "id": "414625b9",
   "metadata": {},
   "outputs": [],
   "source": [
    "import pandas as pd\n",
    "import numpy as np\n",
    "import matplotlib.pyplot as plt\n",
    "import plotly.express as px\n",
    "\n",
    "node = \"Low\"  # Adjust as needed\n",
    "filestem = \"LOW_1336-4024_beam0000_unblanked\"\n",
    "unblankedfile = \"LOW_1336-4024_beam0000_unblanked\"\n",
    "\n",
    "print(\"**********************************\")\n",
    "print(\"Beginning quick node plotter for:\", node + \"/\" + filestem + \"/\" + unblankedfile) \n",
    "print(\"**********************************\")\n",
    "\n",
    "# Read your unblanked bliss results file\n",
    "\n",
    "bliss_results = pd.read_csv(\n",
    "    filestem + \".dat\",\n",
    "    skiprows=9,\n",
    "    delim_whitespace=True, \n",
    "    usecols=[0, 1, 2, 3],\n",
    "    names=[\"Top_Hit_#\", \"Drift_Rate\", \"SNR\", \"Uncorrected_Frequency\"]\n",
    ")\n",
    "\n",
    "unblanked_bliss_results = pd.read_csv(\n",
    "    unblankedfile + \".dat\",\n",
    "    skiprows=9,\n",
    "    delim_whitespace=True, \n",
    "    usecols=[0, 1, 2, 3],\n",
    "    names=[\"Top_Hit_#\", \"Drift_Rate\", \"SNR\", \"Uncorrected_Frequency\"]\n",
    ")\n",
    "\n",
    "filtered_bliss = bliss_results[(bliss_results['Drift_Rate'] >= 0.05) & (bliss_results['Drift_Rate'] <= 1.5)]\n",
    "\n",
    "print(filtered_bliss)"
   ]
  },
  {
   "cell_type": "code",
   "execution_count": null,
   "id": "4528a330",
   "metadata": {},
   "outputs": [],
   "source": [
    "lol = unblanked_bliss_results[(unblanked_bliss_results['Uncorrected_Frequency'] >= 3702)]\n",
    "print(lol)\n"
   ]
  },
  {
   "cell_type": "code",
   "execution_count": null,
   "id": "966bf271",
   "metadata": {},
   "outputs": [],
   "source": [
    "#LOW\n",
    "blanking_rangeslow = [[1000, 1025],[1075, 1116],[1168, 1184.3],[1187, 1227],[1246, 1250],[1275, 1314],[1395, 1420.5],[1525, 1562],\n",
    "                      [1572, 1580],[1671, 1705],[1775, 1802],[1811, 1813],[1899, 1901],[1927, 1945],[1951, 1980],[1990, 1996],\n",
    "                      [1999, 2000.5],[2010, 2011],[2022, 2023],[2049, 2054],[2062.3, 2062.8],[2067.3, 2067.8],[2097, 2098],\n",
    "                      [2110, 2154.6],[2166, 2169.5],[2179, 2203.5],[2211, 2212],[2226, 2227.5],[2237, 2241],[2244, 2248],[2257, 2258],\n",
    "                      [2269, 2270.3],[2271.3, 2779],[2299, 2301],[2316, 2345],[2353, 2359.5],[2484, 2488],[2497.25, 2498.5],\n",
    "                      [2565.75, 2585],[2590, 2609],[2705, 2800],[3264, 3274],[3341, 3343],[3492, 3493],[3600, 3702]]\n",
    "\n",
    "plt.figure(figsize=(12, 6))\n",
    "\n",
    "for start, end in blanking_rangeslow:\n",
    "    plt.axvspan(start, end, color='orange', alpha=0.2, label='Blanking Range' if start == blanking_rangeslow[0][0] else \"\")\n",
    "\n",
    "plt.hist(unblanked_bliss_results['Uncorrected_Frequency'], bins=200, color='#e41a1c', alpha=0.7)\n",
    "\n",
    "plt.hist(bliss_results['Uncorrected_Frequency'], bins=200, color='blue', alpha=0.7)\n",
    "\n",
    "plt.hist(filtered_bliss['Uncorrected_Frequency'], bins=200, color='#4daf4a', alpha=0.7)\n",
    "\n",
    "plt.xlabel('Uncorrected Frequency')  \n",
    "plt.ylabel('Count of Hits')\n",
    "#plt.xlim(992, 3725)                      \n",
    "plt.title(f'{node} Uncorrected Frequencies with Blanking Ranges')  \n",
    "\n",
    "\n",
    "plt.show()"
   ]
  },
  {
   "cell_type": "code",
   "execution_count": null,
   "id": "817ebff9",
   "metadata": {},
   "outputs": [],
   "source": [
    "# Histogram of the Drift Rate\n",
    "\n",
    "bin = np.linspace(-4, 4, 150)\n",
    "\n",
    "plt.figure(figsize=(12, 6))\n",
    "plt.hist(unblanked_bliss_results['Uncorrected_Frequency'], bins=bin, color='#e41a1c', alpha=0.7)\n",
    "plt.hist(bliss_results['Uncorrected_Frequency'], bins=bin, color='blue', alpha=0.7)\n",
    "plt.hist(filtered_bliss['Uncorrected_Frequency'], bins=bin, color='#4daf4a', alpha=0.7)\n",
    "#plt.xlim(-4, 4)\n",
    "plt.xlabel('Drift Rate (Hz/s)')  \n",
    "plt.ylabel('Count of Hits (log scale)')                     \n",
    "#plt.title(f'{node} Drift Rates')  \n",
    "\n",
    "\n",
    "plt.show()"
   ]
  },
  {
   "cell_type": "code",
   "execution_count": null,
   "id": "8f112eb9",
   "metadata": {},
   "outputs": [],
   "source": [
    "# Histogram of the SNR\n",
    "\n",
    "bin = np.linspace(0, 2000, 150)\n",
    "\n",
    "plt.figure(figsize=(12, 6))\n",
    "plt.hist(unblanked_bliss_results['SNR'], log=True, bins=bin, color='#e41a1c', alpha=0.7)\n",
    "plt.hist(bliss_results['SNR'], log=True, bins=bin, color='blue', alpha=0.7)\n",
    "plt.hist(filtered_bliss['SNR'], log=True, bins=bin, color='#4daf4a', alpha=0.7)\n",
    "plt.xlim(right=2000)\n",
    "plt.xlabel('SNR')  \n",
    "plt.ylabel('Count of Hits (log scale)')                     \n",
    "#plt.title('Signal-to-Noise Ratio (SNR) from 1-9 MHz')\n",
    "\n",
    "\n",
    "plt.show()"
   ]
  }
 ],
 "metadata": {
  "kernelspec": {
   "display_name": "env",
   "language": "python",
   "name": "python3"
  },
  "language_info": {
   "codemirror_mode": {
    "name": "ipython",
    "version": 3
   },
   "file_extension": ".py",
   "mimetype": "text/x-python",
   "name": "python",
   "nbconvert_exporter": "python",
   "pygments_lexer": "ipython3",
   "version": "3.13.1"
  }
 },
 "nbformat": 4,
 "nbformat_minor": 5
}
