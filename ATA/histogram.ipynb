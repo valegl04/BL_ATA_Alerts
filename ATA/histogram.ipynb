{
 "cells": [
  {
   "cell_type": "code",
   "execution_count": 1,
   "id": "97956d64",
   "metadata": {},
   "outputs": [],
   "source": [
    "CB_color_cycle = ['#377eb8', '#ff7f00', '#4daf4a',\n",
    "                  '#f781bf', '#a65628', '#984ea3',\n",
    "                  '#999999', '#e41a1c', '#dede00']"
   ]
  },
  {
   "cell_type": "code",
   "execution_count": 9,
   "id": "591b8f8e",
   "metadata": {},
   "outputs": [
    {
     "name": "stdout",
     "output_type": "stream",
     "text": [
      "**********************************\n",
      "Beginning quick node plotter for: Low/summary_data/LOW_1336-4024_beam0000/summary_data/LOW_1336-4024_beam0000_unblanked\n",
      "Beginning quick node plotter for: Mid/summary_data/MID_4024-6376_beam0000/summary_data/MID_4024-6376_beam0000_unblanked\n",
      "Beginning quick node plotter for: High/summary_data/HIGH_6376-9064_beam0000/summary_data/HIGH_6376-9064_beam0000_unblanked\n",
      "**********************************\n"
     ]
    },
    {
     "name": "stderr",
     "output_type": "stream",
     "text": [
      "/var/folders/z0/kkt653vs1rscq9_7hh77yyyr0000gn/T/ipykernel_25564/2483994462.py:29: FutureWarning: The 'delim_whitespace' keyword in pd.read_csv is deprecated and will be removed in a future version. Use ``sep='\\s+'`` instead\n",
      "  bliss_results1 = pd.read_csv(\n",
      "/var/folders/z0/kkt653vs1rscq9_7hh77yyyr0000gn/T/ipykernel_25564/2483994462.py:37: FutureWarning: The 'delim_whitespace' keyword in pd.read_csv is deprecated and will be removed in a future version. Use ``sep='\\s+'`` instead\n",
      "  unblanked_bliss_results1 = pd.read_csv(\n",
      "/var/folders/z0/kkt653vs1rscq9_7hh77yyyr0000gn/T/ipykernel_25564/2483994462.py:46: FutureWarning: The 'delim_whitespace' keyword in pd.read_csv is deprecated and will be removed in a future version. Use ``sep='\\s+'`` instead\n",
      "  bliss_results2 = pd.read_csv(\n",
      "/var/folders/z0/kkt653vs1rscq9_7hh77yyyr0000gn/T/ipykernel_25564/2483994462.py:54: FutureWarning: The 'delim_whitespace' keyword in pd.read_csv is deprecated and will be removed in a future version. Use ``sep='\\s+'`` instead\n",
      "  unblanked_bliss_results2 = pd.read_csv(\n",
      "/var/folders/z0/kkt653vs1rscq9_7hh77yyyr0000gn/T/ipykernel_25564/2483994462.py:63: FutureWarning: The 'delim_whitespace' keyword in pd.read_csv is deprecated and will be removed in a future version. Use ``sep='\\s+'`` instead\n",
      "  bliss_results3 = pd.read_csv(\n",
      "/var/folders/z0/kkt653vs1rscq9_7hh77yyyr0000gn/T/ipykernel_25564/2483994462.py:71: FutureWarning: The 'delim_whitespace' keyword in pd.read_csv is deprecated and will be removed in a future version. Use ``sep='\\s+'`` instead\n",
      "  unblanked_bliss_results3 = pd.read_csv(\n"
     ]
    }
   ],
   "source": [
    "import pandas as pd\n",
    "import numpy as np\n",
    "import matplotlib.pyplot as plt\n",
    "import plotly.express as px\n",
    "'''\n",
    "\n",
    "'''\n",
    "node1 = \"Low\"  # Adjust as needed\n",
    "filestem1 = \"summary_data/LOW_1336-4024_beam0000\"\n",
    "unblankedfile1 = \"summary_data/LOW_1336-4024_beam0000_unblanked\"\n",
    "\n",
    "node2 = \"Mid\"  # Adjust as needed\n",
    "filestem2 = \"summary_data/MID_4024-6376_beam0000\"\n",
    "unblankedfile2 = \"summary_data/MID_4024-6376_beam0000_unblanked\"\n",
    "\n",
    "node3 = \"High\"  # Adjust as needed\n",
    "filestem3 = \"summary_data/HIGH_6376-9064_beam0000\"\n",
    "unblankedfile3 = \"summary_data/HIGH_6376-9064_beam0000_unblanked\"\n",
    "\n",
    "print(\"**********************************\")\n",
    "print(\"Beginning quick node plotter for:\", node1 + \"/\" + filestem1 + \"/\" + unblankedfile1) \n",
    "print(\"Beginning quick node plotter for:\", node2 + \"/\" + filestem2 + \"/\" + unblankedfile2) \n",
    "print(\"Beginning quick node plotter for:\", node3 + \"/\" + filestem3 + \"/\" + unblankedfile3) \n",
    "print(\"**********************************\")\n",
    "\n",
    "# Read your unblanked bliss results file\n",
    "\n",
    "# LOW\n",
    "bliss_results1 = pd.read_csv(\n",
    "    filestem1 + \".dat\",\n",
    "    skiprows=9,\n",
    "    delim_whitespace=True, \n",
    "    usecols=[0, 1, 2, 3],\n",
    "    names=[\"Top_Hit_#\", \"Drift_Rate\", \"SNR\", \"Uncorrected_Frequency\"]\n",
    ")\n",
    "\n",
    "unblanked_bliss_results1 = pd.read_csv(\n",
    "    unblankedfile1 + \".dat\",\n",
    "    skiprows=9,\n",
    "    delim_whitespace=True, \n",
    "    usecols=[0, 1, 2, 3],\n",
    "    names=[\"Top_Hit_#\", \"Drift_Rate\", \"SNR\", \"Uncorrected_Frequency\"]\n",
    ")\n",
    "\n",
    "# MID\n",
    "bliss_results2 = pd.read_csv(\n",
    "    filestem2 + \".dat\",\n",
    "    skiprows=9,\n",
    "    delim_whitespace=True, \n",
    "    usecols=[0, 1, 2, 3],\n",
    "    names=[\"Top_Hit_#\", \"Drift_Rate\", \"SNR\", \"Uncorrected_Frequency\"]\n",
    ")\n",
    "\n",
    "unblanked_bliss_results2 = pd.read_csv(\n",
    "    unblankedfile2 + \".dat\",\n",
    "    skiprows=9,\n",
    "    delim_whitespace=True, \n",
    "    usecols=[0, 1, 2, 3],\n",
    "    names=[\"Top_Hit_#\", \"Drift_Rate\", \"SNR\", \"Uncorrected_Frequency\"]\n",
    ")\n",
    "\n",
    "# HIGH\n",
    "bliss_results3 = pd.read_csv(\n",
    "    filestem3 + \".dat\",\n",
    "    skiprows=9,\n",
    "    delim_whitespace=True, \n",
    "    usecols=[0, 1, 2, 3],\n",
    "    names=[\"Top_Hit_#\", \"Drift_Rate\", \"SNR\", \"Uncorrected_Frequency\"]\n",
    ")\n",
    "\n",
    "unblanked_bliss_results3 = pd.read_csv(\n",
    "    unblankedfile3 + \".dat\",\n",
    "    skiprows=9,\n",
    "    delim_whitespace=True, \n",
    "    usecols=[0, 1, 2, 3],\n",
    "    names=[\"Top_Hit_#\", \"Drift_Rate\", \"SNR\", \"Uncorrected_Frequency\"]\n",
    ")\n",
    "\n",
    "filtered_bliss1 = bliss_results1[(bliss_results1['Drift_Rate'] >= 0) & (bliss_results1['Drift_Rate'] <= 1.5)]\n",
    "filtered_bliss2 = bliss_results2[(bliss_results2['Drift_Rate'] >= 0) & (bliss_results2['Drift_Rate'] <= 1.5)]\n",
    "filtered_bliss3 = bliss_results3[(bliss_results3['Drift_Rate'] >= 0) & (bliss_results3['Drift_Rate'] <= 1.5)]"
   ]
  },
  {
   "cell_type": "code",
   "execution_count": null,
   "id": "a9f5baef",
   "metadata": {},
   "outputs": [
    {
     "data": {
      "text/plain": [
       "'\\n#ALL\\nblanking_ranges = [[1000, 1025],[1075, 1116],[1168, 1184.3],[1187, 1192],[1190, 1227],[1246, 1250],[1275, 1314],[1395, 1420.5],[1525, 1562],\\n                    [1572, 1580],[1671, 1705],[1775, 1802],[1811, 1813],[1899, 1901],[1927,1945],[1951, 1980],[1990, 1996],[1999, 2000.5],\\n                    [2010, 2011],[2022, 2023],[2049, 2054],[2062.3, 2062.8],[2067.3, 2067.8],[2097, 2098],[2110, 2154.6],[2166, 2169.5],\\n                    [2179, 2203.5],[2211, 2212],[2226, 2227.5],[2237, 2241],[2244, 2248],[2257, 2258],[2269, 2270.3],[2271.3, 2779],[2299, 2301],\\n                    [2316, 2345],[2353, 2359.5],[2484, 2488],[2497.25, 2498.5],[2565.75, 2585],[2590, 2609],[2705, 2800],[3264, 3274],[3341, 3343],\\n                    [3492.75, 3492.85],[3600, 3702],[3749, 3751],[3816, 3838],[3872, 3897],[3927, 3931],[3965, 3980],[3984, 4045],[4058, 4098],\\n                    [4102, 4143],[4144, 4178],[4190, 4201],[4999, 5000.9],[5048, 5049.5],[5810, 5830],[7300, 7307],[7596.5, 7604]]\\n'"
      ]
     },
     "execution_count": 10,
     "metadata": {},
     "output_type": "execute_result"
    }
   ],
   "source": [
    "\n",
    "#LOW\n",
    "blanking_rangeslow = [[1000, 1025],[1075, 1116],[1168, 1184.3],[1187, 1227],[1246, 1250],[1275, 1314],[1395, 1420.5],[1525, 1562],\n",
    "                      [1572, 1580],[1671, 1705],[1775, 1802],[1811, 1813],[1899, 1901],[1927, 1945],[1951, 1980],[1990, 1996],\n",
    "                      [1999, 2000.5],[2010, 2011],[2022, 2023],[2049, 2054],[2062.3, 2062.8],[2067.3, 2067.8],[2097, 2098],\n",
    "                      [2110, 2154.6],[2166, 2169.5],[2179, 2203.5],[2211, 2212],[2226, 2227.5],[2237, 2241],[2244, 2248],[2257, 2258],\n",
    "                      [2269, 2270.3],[2271.3, 2779],[2299, 2301],[2316, 2345],[2353, 2359.5],[2484, 2488],[2497.25, 2498.5],\n",
    "                      [2565.75, 2585],[2590, 2609],[2705, 2800],[3264, 3274],[3341, 3343],[3492, 3493],[3600, 3702]]\n",
    "\n",
    "#MID\n",
    "blanking_rangesmid = [[3688, 4200],[4999, 5000.9],[5048, 5049.5],[5810, 5830]]\n",
    "\n",
    "#HIGH\n",
    "blanking_rangeshigh = [[7300, 7307],[7596.5, 7604]]\n",
    "\n",
    "'''\n",
    "#ALL\n",
    "blanking_ranges = [[1000, 1025],[1075, 1116],[1168, 1184.3],[1187, 1227],[1246, 1250],[1275, 1314],[1395, 1420.5],[1525, 1562],\n",
    "                    [1572, 1580],[1671, 1705],[1775, 1802],[1811, 1813],[1899, 1901],[1927, 1945],[1951, 1980],[1990, 1996],\n",
    "                    [1999, 2000.5],[2010, 2011],[2022, 2023],[2049, 2054],[2062.3, 2062.8],[2067.3, 2067.8],[2097, 2098],\n",
    "                    [2110, 2154.6],[2166, 2169.5],[2179, 2203.5],[2211, 2212],[2226, 2227.5],[2237, 2241],[2244, 2248],[2257, 2258],\n",
    "                    [2269, 2270.3],[2271.3, 2779],[2299, 2301],[2316, 2345],[2353, 2359.5],[2484, 2488],[2497.25, 2498.5],\n",
    "                    [2565.75, 2585],[2590, 2609],[2705, 2800],[3264, 3274],[3341, 3343],[3492, 3493],[3600, 4200],[4999, 5000.9],\n",
    "                    [5048, 5049.5],[5810, 5830],[7300, 7307],[7596.5, 7604]]\n",
    "'''"
   ]
  },
  {
   "cell_type": "code",
   "execution_count": 4,
   "id": "2839590e",
   "metadata": {},
   "outputs": [
    {
     "data": {
      "text/plain": [
       "'\\nplt.figure(figsize=(12, 6))\\n\\nfor start, end in blanking_rangeslow:\\n    plt.axvspan(start, end, color=\\'orange\\', alpha=0.2, label=\\'Blanking Range\\' if start == blanking_ranges[0][0] else \"\")\\n\\nplt.hist(unblanked_bliss_results[\\'Uncorrected_Frequency\\'], bins=200, color=\\'#e41a1c\\', alpha=0.7)\\n\\nplt.hist(bliss_results[\\'Uncorrected_Frequency\\'], bins=200, color=\\'blue\\', alpha=0.7)\\n\\nplt.hist(filtered_bliss[\\'Uncorrected_Frequency\\'], bins=200, color=\\'#4daf4a\\', alpha=0.7)\\n\\nplt.xlabel(\\'Uncorrected Frequency\\')  \\nplt.ylabel(\\'Count of Hits\\')\\n#plt.xlim(992, 3725)                      \\nplt.title(f\\'{node} Uncorrected Frequencies with Blanking Ranges\\')  \\n\\n\\nplt.show()\\n'"
      ]
     },
     "execution_count": 4,
     "metadata": {},
     "output_type": "execute_result"
    }
   ],
   "source": [
    "'''\n",
    "plt.figure(figsize=(12, 6))\n",
    "\n",
    "for start, end in blanking_rangeslow:\n",
    "    plt.axvspan(start, end, color='orange', alpha=0.2, label='Blanking Range' if start == blanking_ranges[0][0] else \"\")\n",
    "\n",
    "plt.hist(unblanked_bliss_results['Uncorrected_Frequency'], bins=200, color='#e41a1c', alpha=0.7)\n",
    "\n",
    "plt.hist(bliss_results['Uncorrected_Frequency'], bins=200, color='blue', alpha=0.7)\n",
    "\n",
    "plt.hist(filtered_bliss['Uncorrected_Frequency'], bins=200, color='#4daf4a', alpha=0.7)\n",
    "\n",
    "plt.xlabel('Uncorrected Frequency')  \n",
    "plt.ylabel('Count of Hits')\n",
    "#plt.xlim(992, 3725)                      \n",
    "plt.title(f'{node} Uncorrected Frequencies with Blanking Ranges')  \n",
    "\n",
    "\n",
    "plt.show()\n",
    "'''"
   ]
  },
  {
   "cell_type": "code",
   "execution_count": 12,
   "id": "384bb4b1",
   "metadata": {},
   "outputs": [
    {
     "name": "stderr",
     "output_type": "stream",
     "text": [
      "/var/folders/z0/kkt653vs1rscq9_7hh77yyyr0000gn/T/ipykernel_25564/3130026953.py:20: UserWarning: Attempt to set non-positive ylim on a log-scaled axis will be ignored.\n",
      "  ax1.set_ylim(0, 6000000)\n"
     ]
    },
    {
     "data": {
      "image/png": "[encoded data removed]",
      "text/plain": [
       "<Figure size 800x1000 with 3 Axes>"
      ]
     },
     "metadata": {},
     "output_type": "display_data"
    }
   ],
   "source": [
    "bin = np.linspace(1000, 9064, 150)\n",
    "\n",
    "fig, (ax1, ax2, ax3) = plt.subplots(nrows=3, ncols=1, figsize=(8, 10))\n",
    "\n",
    "for start, end in blanking_rangeslow:\n",
    "    ax1.axvspan(start, end, color='orange', alpha=0.2, label='Blanking Range' if start == blanking_rangeslow[0][0] else \"\")\n",
    "\n",
    "for start, end in blanking_rangesmid:\n",
    "    ax2.axvspan(start, end, color='orange', alpha=0.2, label='Blanking Range' if start == blanking_rangesmid[0][0] else \"\")\n",
    "\n",
    "for start, end in blanking_rangeshigh:\n",
    "    ax3.axvspan(start, end, color='orange', alpha=0.2, label='Blanking Range' if start == blanking_rangeshigh[0][0] else \"\")\n",
    "\n",
    "ax1.hist(unblanked_bliss_results1['Uncorrected_Frequency'], log=True, bins=bin, color='#e41a1c', alpha=0.7)\n",
    "ax1.hist(bliss_results1['Uncorrected_Frequency'], log=True,bins=bin, color='blue', alpha=0.7)\n",
    "ax1.hist(filtered_bliss1['Uncorrected_Frequency'], log=True,bins=bin, color='#4daf4a', alpha=0.7)\n",
    "#ax1.set_title(f'{node1} Uncorrected Frequencies with Blanking Ranges')\n",
    "#ax1.set_ylabel('Count of Hits')\n",
    "ax1.set_xlim(1000, 3688)\n",
    "ax1.set_ylim(0, 6000000)\n",
    "\n",
    "ax2.hist(unblanked_bliss_results2['Uncorrected_Frequency'], log=True,bins=bin, color='#e41a1c', alpha=0.7)\n",
    "ax2.hist(bliss_results2['Uncorrected_Frequency'], log=True,bins=bin, color='blue', alpha=0.7)\n",
    "ax2.hist(filtered_bliss2['Uncorrected_Frequency'], log=True,bins=bin, color='#4daf4a', alpha=0.7)\n",
    "#ax2.set_title(f'{node2} Uncorrected Frequencies with Blanking Ranges')\n",
    "ax2.set_ylabel('Count of Hits')\n",
    "ax2.set_xlim(3688, 6376)\n",
    "#ax2.set_ylim(0, 6000000)\n",
    "\n",
    "ax3.hist(unblanked_bliss_results3['Uncorrected_Frequency'], log=True,bins=bin, color='#e41a1c', alpha=0.7)\n",
    "ax3.hist(bliss_results3['Uncorrected_Frequency'], log=True,bins=bin, color='blue', alpha=0.7)\n",
    "ax3.hist(filtered_bliss3['Uncorrected_Frequency'], log=True,bins=bin, color='#4daf4a', alpha=0.7)\n",
    "#ax3.set_title(f'{node3} Uncorrected Frequencies with Blanking Ranges')\n",
    "#ax3.set_ylabel('Count of Hits')\n",
    "ax3.set_xlim(6376, 9064)\n",
    "#ax3.set_ylim(0, 6000000)\n",
    "ax3.set_xlabel('Frequency')\n",
    "\n",
    "plt.tight_layout()\n",
    "plt.show()\n"
   ]
  },
  {
   "cell_type": "code",
   "execution_count": 6,
   "id": "3f9a5bbc",
   "metadata": {},
   "outputs": [
    {
     "data": {
      "text/plain": [
       "\"\\nunblanked_bliss_results['Type'] = 'unblanked'\\nbliss_results['Type'] = 'blanked'\\nfiltered_bliss['Type'] = 'filtered'\\n\\ncombined_results = pd.concat([unblanked_bliss_results, bliss_results, filtered_bliss])  \\n\\nfig = px.histogram(\\n    combined_results, \\n    x='Uncorrected_Frequency',\\n    #range_x=(900, 4000),\\n    color= 'Type',\\n    nbins=200, \\n    opacity=0.6,\\n    color_discrete_map={'unblanked': '#e41a1c', 'blanked': 'blue', 'filtered': '#4daf4a'},\\n    labels={'Uncorrected_Frequency': 'Uncorrected Frequency (Hz)', 'Count': 'Count'},\\n    title=f'{node} Uncorrected Frequencies with Blanking Ranges',\\n    template='simple_white',\\n    barmode ='overlay'\\n\\n)\\n\\nfor start, end in blanking_ranges:\\n    fig.add_vrect(\\n        x0=start, x1=end,\\n        fillcolor='orange', opacity=0.3,\\n        layer='below', line_width=0,\\n    )\\n\\nfig.show()\\n\""
      ]
     },
     "execution_count": 6,
     "metadata": {},
     "output_type": "execute_result"
    }
   ],
   "source": [
    "'''\n",
    "unblanked_bliss_results['Type'] = 'unblanked'\n",
    "bliss_results['Type'] = 'blanked'\n",
    "filtered_bliss['Type'] = 'filtered'\n",
    "\n",
    "combined_results = pd.concat([unblanked_bliss_results, bliss_results, filtered_bliss])  \n",
    "\n",
    "fig = px.histogram(\n",
    "    combined_results, \n",
    "    x='Uncorrected_Frequency',\n",
    "    #range_x=(900, 4000),\n",
    "    color= 'Type',\n",
    "    nbins=200, \n",
    "    opacity=0.6,\n",
    "    color_discrete_map={'unblanked': '#e41a1c', 'blanked': 'blue', 'filtered': '#4daf4a'},\n",
    "    labels={'Uncorrected_Frequency': 'Uncorrected Frequency (Hz)', 'Count': 'Count'},\n",
    "    title=f'{node} Uncorrected Frequencies with Blanking Ranges',\n",
    "    template='simple_white',\n",
    "    barmode ='overlay'\n",
    "\n",
    ")\n",
    "\n",
    "for start, end in blanking_ranges:\n",
    "    fig.add_vrect(\n",
    "        x0=start, x1=end,\n",
    "        fillcolor='orange', opacity=0.3,\n",
    "        layer='below', line_width=0,\n",
    "    )\n",
    "\n",
    "fig.show()\n",
    "'''"
   ]
  },
  {
   "cell_type": "code",
   "execution_count": 7,
   "id": "a32db2ce",
   "metadata": {},
   "outputs": [
    {
     "ename": "NameError",
     "evalue": "name 'unblanked_bliss_results' is not defined",
     "output_type": "error",
     "traceback": [
      "\u001b[31m---------------------------------------------------------------------------\u001b[39m",
      "\u001b[31mNameError\u001b[39m                                 Traceback (most recent call last)",
      "\u001b[36mCell\u001b[39m\u001b[36m \u001b[39m\u001b[32mIn[7]\u001b[39m\u001b[32m, line 2\u001b[39m\n\u001b[32m      1\u001b[39m plt.figure(figsize=(\u001b[32m12\u001b[39m, \u001b[32m6\u001b[39m))\n\u001b[32m----> \u001b[39m\u001b[32m2\u001b[39m plt.hist(\u001b[43munblanked_bliss_results\u001b[49m[\u001b[33m'\u001b[39m\u001b[33mDrift_Rate\u001b[39m\u001b[33m'\u001b[39m], log=\u001b[38;5;28;01mTrue\u001b[39;00m, bins=\u001b[32m200\u001b[39m, color=\u001b[33m'\u001b[39m\u001b[33m#e41a1c\u001b[39m\u001b[33m'\u001b[39m, alpha=\u001b[32m0.7\u001b[39m)\n\u001b[32m      3\u001b[39m plt.hist(bliss_results[\u001b[33m'\u001b[39m\u001b[33mDrift_Rate\u001b[39m\u001b[33m'\u001b[39m], log=\u001b[38;5;28;01mTrue\u001b[39;00m, bins=\u001b[32m200\u001b[39m, color=\u001b[33m'\u001b[39m\u001b[33mblue\u001b[39m\u001b[33m'\u001b[39m, alpha=\u001b[32m0.7\u001b[39m)\n\u001b[32m      4\u001b[39m plt.hist(filtered_bliss[\u001b[33m'\u001b[39m\u001b[33mDrift_Rate\u001b[39m\u001b[33m'\u001b[39m], log=\u001b[38;5;28;01mTrue\u001b[39;00m, bins=\u001b[32m50\u001b[39m, color=\u001b[33m'\u001b[39m\u001b[33m#4daf4a\u001b[39m\u001b[33m'\u001b[39m, alpha=\u001b[32m0.7\u001b[39m)\n",
      "\u001b[31mNameError\u001b[39m: name 'unblanked_bliss_results' is not defined"
     ]
    },
    {
     "data": {
      "text/plain": [
       "<Figure size 1200x600 with 0 Axes>"
      ]
     },
     "metadata": {},
     "output_type": "display_data"
    }
   ],
   "source": [
    "plt.figure(figsize=(12, 6))\n",
    "plt.hist(unblanked_bliss_results['Drift_Rate'], log=True, bins=200, color='#e41a1c', alpha=0.7)\n",
    "plt.hist(bliss_results['Drift_Rate'], log=True, bins=200, color='blue', alpha=0.7)\n",
    "plt.hist(filtered_bliss['Drift_Rate'], log=True, bins=50, color='#4daf4a', alpha=0.7)\n",
    "#plt.xlim(0, 1.5)\n",
    "plt.xlabel('Drift Rate')  \n",
    "plt.ylabel('Count (log scale)')                     \n",
    "plt.title(f'{node} Drift Rates')  \n",
    "\n",
    "\n",
    "plt.show()"
   ]
  },
  {
   "cell_type": "code",
   "execution_count": null,
   "id": "7ea98a59",
   "metadata": {},
   "outputs": [],
   "source": []
  }
 ],
 "metadata": {
  "kernelspec": {
   "display_name": "env",
   "language": "python",
   "name": "python3"
  },
  "language_info": {
   "codemirror_mode": {
    "name": "ipython",
    "version": 3
   },
   "file_extension": ".py",
   "mimetype": "text/x-python",
   "name": "python",
   "nbconvert_exporter": "python",
   "pygments_lexer": "ipython3",
   "version": "3.13.1"
  }
 },
 "nbformat": 4,
 "nbformat_minor": 5
}
