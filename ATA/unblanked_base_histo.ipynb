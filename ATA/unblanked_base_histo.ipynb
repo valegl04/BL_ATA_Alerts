{
 "cells": [
  {
   "cell_type": "code",
   "execution_count": null,
   "id": "6da44dc2",
   "metadata": {},
   "outputs": [
    {
     "name": "stdout",
     "output_type": "stream",
     "text": [
      "        Top_Hit_#  Drift_Rate        SNR  Uncorrected_Frequency\n",
      "0               1   -3.953776  15.074071            6385.249413\n",
      "1               2    3.922196  15.702300            6386.250599\n",
      "2               3    3.922196  18.186565            6391.750578\n",
      "3               4   -3.953776  22.248306            6392.249384\n",
      "4               5    3.922196  15.896203            6395.250601\n",
      "...           ...         ...        ...                    ...\n",
      "303405         18   -3.953776  18.624893            9056.749382\n",
      "303406         19    3.922196  22.111296            9057.750588\n",
      "303407         20    3.922196  15.066710            9058.250601\n",
      "303408         21   -3.953776  24.990156            9059.749384\n",
      "303409         22   -3.953776  18.943413            9063.249390\n",
      "\n",
      "[303410 rows x 4 columns]\n"
     ]
    }
   ],
   "source": [
    "import pandas as pd\n",
    "import numpy as np\n",
    "import matplotlib.pyplot as plt\n",
    "\n",
    "\n",
    "\n",
    "node2 = 'Mid'\n",
    "unfile2 = \"/datax/scratch/vlopez/summary_data/MID_4024-6376_beam0000_unblanked\"\n",
    " \n",
    "node3 = 'High'\n",
    "unfile3 = \"/datax/scratch/vlopez/summary_data/HIGH_6376-9064_beam0000_unblanked\"\n",
    "\n",
    "#LOW\n",
    "\n",
    "unblanked_bliss_results1 = pd.read_csv(\n",
    "    unfile1 + \".dat\",\n",
    "    skiprows=3,\n",
    "    delim_whitespace=True, \n",
    "    usecols=[0, 1, 2, 3],\n",
    "    names=[\"Top_Hit_#\", \"Drift_Rate\", \"SNR\", \"Uncorrected_Frequency\"]\n",
    ")\n",
    "\n",
    "#MID\n",
    "unblanked_bliss_results1 = pd.read_csv(\n",
    "    unfile2 + \".dat\",\n",
    "    skiprows=3,\n",
    "    delim_whitespace=True, \n",
    "    usecols=[0, 1, 2, 3],\n",
    "    names=[\"Top_Hit_#\", \"Drift_Rate\", \"SNR\", \"Uncorrected_Frequency\"]\n",
    ")\n",
    "\n",
    "#HIGH\n",
    "unblanked_bliss_results1 = pd.read_csv(\n",
    "    unfile3 + \".dat\",\n",
    "    skiprows=3,\n",
    "    delim_whitespace=True, \n",
    "    usecols=[0, 1, 2, 3],\n",
    "    names=[\"Top_Hit_#\", \"Drift_Rate\", \"SNR\", \"Uncorrected_Frequency\"]\n",
    ")\n",
    "\n",
    "print(unblanked_bliss_results1)\n"
   ]
  },
  {
   "cell_type": "code",
   "execution_count": null,
   "id": "0d5718cc",
   "metadata": {},
   "outputs": [
    {
     "name": "stdout",
     "output_type": "stream",
     "text": [
      "303404\n"
     ]
    }
   ],
   "source": [
    "#LOW\n",
    "blanking_rangeslow = [[1000, 1025],[1075, 1116],[1168, 1184.3],[1187, 1227],[1246, 1250],[1275, 1314],[1395, 1420.5],[1525, 1562],\n",
    "                      [1572, 1580],[1671, 1705],[1775, 1802],[1811, 1813],[1899, 1901],[1927, 1945],[1951, 1980],[1990, 1996],\n",
    "                      [1999, 2000.5],[2010, 2011],[2022, 2023],[2049, 2054],[2062.3, 2062.8],[2067.3, 2067.8],[2097, 2098],\n",
    "                      [2110, 2154.6],[2166, 2169.5],[2179, 2203.5],[2211, 2212],[2226, 2227.5],[2237, 2241],[2244, 2248],[2257, 2258],\n",
    "                      [2269, 2270.3],[2271.3, 2279],[2299, 2301],[2316, 2345],[2353, 2359.5],[2484, 2488],[2497.25, 2498.5],\n",
    "                      [3264, 3274],[3341, 3343],[3492, 3493]]\n",
    "\n",
    "'''\n",
    "[2565.75, 2585],[2590, 2609],[2705, 2800],[3600, 3702]\n",
    "'''\n",
    "\n",
    "#MID\n",
    "blanking_rangesmid = [[3688, 4200],[4999, 5000.9],[5048, 5049.5],[5810, 5830]]\n",
    "\n",
    "#HIGH\n",
    "blanking_rangeshigh = [[7300, 7307],[7596.5, 7604]]\n"
   ]
  },
  {
   "cell_type": "code",
   "execution_count": 5,
   "id": "ee60f5a0",
   "metadata": {},
   "outputs": [
    {
     "name": "stdout",
     "output_type": "stream",
     "text": [
      "303404\n",
      "303404\n"
     ]
    }
   ],
   "source": [
    "def filter_blanking(df, blanking_rangeslow):\n",
    "    def inside_blanking(freq):\n",
    "        return any(start <= freq <= end for start, end in blanking_rangeslow)\n",
    "\n",
    "    filter = df['Uncorrected_Frequency'].apply(lambda freq: not inside_blanking(freq))\n",
    "    return df[filter].reset_index(drop=True)\n",
    "\n",
    "filtered_df = filter_blanking(unblanked_bliss_results1, blanking_rangeslow)\n",
    "\n",
    "print(len(filtered_df))\n",
    "print(len(unblanked_bliss_results1))\n"
   ]
  },
  {
   "cell_type": "code",
   "execution_count": null,
   "id": "65d7e3c1",
   "metadata": {},
   "outputs": [],
   "source": []
  }
 ],
 "metadata": {
  "kernelspec": {
   "display_name": "hyper",
   "language": "python",
   "name": "python3"
  },
  "language_info": {
   "codemirror_mode": {
    "name": "ipython",
    "version": 3
   },
   "file_extension": ".py",
   "mimetype": "text/x-python",
   "name": "python",
   "nbconvert_exporter": "python",
   "pygments_lexer": "ipython3",
   "version": "3.10.10"
  }
 },
 "nbformat": 4,
 "nbformat_minor": 5
}
