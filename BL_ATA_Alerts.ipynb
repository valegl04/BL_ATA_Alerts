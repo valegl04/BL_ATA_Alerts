{
 "cells": [
  {
   "cell_type": "code",
   "execution_count": 1,
   "id": "5de0e159",
   "metadata": {},
   "outputs": [
    {
     "name": "stderr",
     "output_type": "stream",
     "text": [
      "/Users/valegarcia/Documents/GitHub/BL_ATA_Alerts/env/lib/python3.13/site-packages/lightkurve/prf/__init__.py:7: UserWarning: Warning: the tpfmodel submodule is not available without oktopus installed, which requires a current version of autograd. See #1452 for details.\n",
      "  warnings.warn(\n"
     ]
    }
   ],
   "source": [
    "%matplotlib notebook\n",
    "import numpy as np\n",
    "import matplotlib.pyplot as plt\n",
    "from astropy.time import Time\n",
    "import lightkurve as lk\n",
    "from scipy.optimize import curve_fit\n",
    "import pandas as pd"
   ]
  },
  {
   "cell_type": "code",
   "execution_count": 2,
   "id": "42a79175",
   "metadata": {},
   "outputs": [
    {
     "data": {
      "text/html": [
       "SearchResult containing 8 data products.\n",
       "\n",
       "<table id=\"table5790364640\">\n",
       "<thead><tr><th>#</th><th>mission</th><th>year</th><th>author</th><th>exptime</th><th>target_name</th><th>distance</th></tr></thead>\n",
       "<thead><tr><th></th><th></th><th></th><th></th><th>s</th><th></th><th>arcsec</th></tr></thead>\n",
       "<tr><td>0</td><td>TESS Sector 44</td><td>2021</td><td><a href='https://heasarc.gsfc.nasa.gov/docs/tess/data-handling.html'>SPOC</a></td><td>20</td><td>337646214</td><td>0.0</td></tr>\n",
       "<tr><td>1</td><td>TESS Sector 45</td><td>2021</td><td><a href='https://heasarc.gsfc.nasa.gov/docs/tess/data-handling.html'>SPOC</a></td><td>20</td><td>337646214</td><td>0.0</td></tr>\n",
       "<tr><td>2</td><td>TESS Sector 46</td><td>2021</td><td><a href='https://heasarc.gsfc.nasa.gov/docs/tess/data-handling.html'>SPOC</a></td><td>20</td><td>337646214</td><td>0.0</td></tr>\n",
       "<tr><td>3</td><td>TESS Sector 44</td><td>2021</td><td><a href='https://heasarc.gsfc.nasa.gov/docs/tess/data-handling.html'>SPOC</a></td><td>120</td><td>337646214</td><td>0.0</td></tr>\n",
       "<tr><td>4</td><td>TESS Sector 45</td><td>2021</td><td><a href='https://heasarc.gsfc.nasa.gov/docs/tess/data-handling.html'>SPOC</a></td><td>120</td><td>337646214</td><td>0.0</td></tr>\n",
       "<tr><td>5</td><td>TESS Sector 46</td><td>2021</td><td><a href='https://heasarc.gsfc.nasa.gov/docs/tess/data-handling.html'>SPOC</a></td><td>120</td><td>337646214</td><td>0.0</td></tr>\n",
       "<tr><td>6</td><td>TESS Sector 72</td><td>2023</td><td><a href='https://heasarc.gsfc.nasa.gov/docs/tess/data-handling.html'>SPOC</a></td><td>20</td><td>337646214</td><td>0.0</td></tr>\n",
       "<tr><td>7</td><td>TESS Sector 72</td><td>2023</td><td><a href='https://heasarc.gsfc.nasa.gov/docs/tess/data-handling.html'>SPOC</a></td><td>120</td><td>337646214</td><td>0.0</td></tr>\n",
       "</table>"
      ],
      "text/plain": [
       "SearchResult containing 8 data products.\n",
       "\n",
       " #     mission     year author exptime target_name distance\n",
       "                                  s                 arcsec \n",
       "--- -------------- ---- ------ ------- ----------- --------\n",
       "  0 TESS Sector 44 2021   SPOC      20   337646214      0.0\n",
       "  1 TESS Sector 45 2021   SPOC      20   337646214      0.0\n",
       "  2 TESS Sector 46 2021   SPOC      20   337646214      0.0\n",
       "  3 TESS Sector 44 2021   SPOC     120   337646214      0.0\n",
       "  4 TESS Sector 45 2021   SPOC     120   337646214      0.0\n",
       "  5 TESS Sector 46 2021   SPOC     120   337646214      0.0\n",
       "  6 TESS Sector 72 2023   SPOC      20   337646214      0.0\n",
       "  7 TESS Sector 72 2023   SPOC     120   337646214      0.0"
      ]
     },
     "execution_count": 2,
     "metadata": {},
     "output_type": "execute_result"
    }
   ],
   "source": [
    "# Specify the Eclipsing CVs: \n",
    "TIC = 'TIC 337646214'\n",
    "\n",
    "data_all = lk.search_lightcurve(TIC, author = 'SPOC')\n",
    "\n",
    "data_all"
   ]
  },
  {
   "cell_type": "code",
   "execution_count": null,
   "id": "7ab910da",
   "metadata": {},
   "outputs": [],
   "source": []
  }
 ],
 "metadata": {
  "kernelspec": {
   "display_name": "env",
   "language": "python",
   "name": "python3"
  },
  "language_info": {
   "codemirror_mode": {
    "name": "ipython",
    "version": 3
   },
   "file_extension": ".py",
   "mimetype": "text/x-python",
   "name": "python",
   "nbconvert_exporter": "python",
   "pygments_lexer": "ipython3",
   "version": "3.13.1"
  }
 },
 "nbformat": 4,
 "nbformat_minor": 5
}
