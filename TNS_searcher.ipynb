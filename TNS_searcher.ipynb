{
 "cells": [
  {
   "cell_type": "code",
   "execution_count": 1,
   "id": "2a5c7379",
   "metadata": {},
   "outputs": [],
   "source": [
    "from keys import API_KEY, BOT_ID\n",
    "import requests\n",
    "import json"
   ]
  },
  {
   "cell_type": "code",
   "execution_count": null,
   "id": "eea80963",
   "metadata": {},
   "outputs": [
    {
     "name": "stdout",
     "output_type": "stream",
     "text": [
      "Status code: 401\n",
      "Response text: {\"id_code\":401,\"id_message\":\"Unauthorized\"}\n"
     ]
    }
   ],
   "source": [
    "# Configuración del header\n",
    "headers = {\n",
    "    'User-Agent': f'tns_marker{{\"tns_id\":{BOT_ID},\"type\":\"bot\",\"name\":\"SNsearch_bot\"}}',\n",
    "    'Content-Type': 'application/json'\n",
    "}\n",
    "\n",
    "url = \"https://www.wis-tns.org/api/get\"\n",
    "\n",
    "# Payload mínimo de prueba\n",
    "payload = {\n",
    "    \"api_key\": API_KEY,\n",
    "    \"data_type\": \"json\",\n",
    "    \"parameters\": {\n",
    "        \"page\": 1,\n",
    "        \"num_page\": 1\n",
    "    },\n",
    "    \"command\": \"search\"\n",
    "}\n",
    "\n",
    "# Request\n",
    "response = requests.post(url, headers=headers, data=json.dumps(payload))\n",
    "\n",
    "# Resultado\n",
    "print(\"Status code:\", response.status_code)\n",
    "print(\"Response text:\", response.text[:500])\n"
   ]
  },
  {
   "cell_type": "code",
   "execution_count": null,
   "id": "3f13a7aa",
   "metadata": {},
   "outputs": [],
   "source": []
  }
 ],
 "metadata": {
  "kernelspec": {
   "display_name": "env",
   "language": "python",
   "name": "python3"
  },
  "language_info": {
   "codemirror_mode": {
    "name": "ipython",
    "version": 3
   },
   "file_extension": ".py",
   "mimetype": "text/x-python",
   "name": "python",
   "nbconvert_exporter": "python",
   "pygments_lexer": "ipython3",
   "version": "3.13.1"
  }
 },
 "nbformat": 4,
 "nbformat_minor": 5
}
